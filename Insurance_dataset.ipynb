{
 "cells": [
  {
   "cell_type": "markdown",
   "metadata": {
    "id": "Ms3m0txgu2sQ",
    "papermill": {
     "duration": 0.02142,
     "end_time": "2020-08-24T18:05:18.719817",
     "exception": false,
     "start_time": "2020-08-24T18:05:18.698397",
     "status": "completed"
    },
    "tags": []
   },
   "source": [
    "## 1. Dataset "
   ]
  },
  {
   "cell_type": "code",
   "execution_count": 1,
   "metadata": {
    "execution": {
     "iopub.execute_input": "2020-08-24T18:05:18.769265Z",
     "iopub.status.busy": "2020-08-24T18:05:18.768595Z",
     "iopub.status.idle": "2020-08-24T18:05:19.702691Z",
     "shell.execute_reply": "2020-08-24T18:05:19.701878Z"
    },
    "id": "nxiGBkJsu2sR",
    "papermill": {
     "duration": 0.961789,
     "end_time": "2020-08-24T18:05:19.702834",
     "exception": false,
     "start_time": "2020-08-24T18:05:18.741045",
     "status": "completed"
    },
    "tags": []
   },
   "outputs": [],
   "source": [
    "# importing required libraries\n",
    "import os #provides functions for interacting with the operating system\n",
    "import numpy as np\n",
    "import pandas as pd\n",
    "from matplotlib import pyplot as plt\n",
    "import matplotlib.pyplot as plt\n",
    "import seaborn as sns\n",
    "%matplotlib inline"
   ]
  },
  {
   "cell_type": "code",
   "execution_count": 2,
   "metadata": {
    "execution": {
     "iopub.execute_input": "2020-08-24T18:05:19.759198Z",
     "iopub.status.busy": "2020-08-24T18:05:19.758621Z",
     "iopub.status.idle": "2020-08-24T18:05:19.772388Z",
     "shell.execute_reply": "2020-08-24T18:05:19.771597Z"
    },
    "id": "xmsPxwpbu2sT",
    "papermill": {
     "duration": 0.047085,
     "end_time": "2020-08-24T18:05:19.772500",
     "exception": false,
     "start_time": "2020-08-24T18:05:19.725415",
     "status": "completed"
    },
    "tags": []
   },
   "outputs": [],
   "source": [
    "# loading dataset\n",
    "insurance_df= pd.read_csv(\"insurance-data.csv\")"
   ]
  },
  {
   "cell_type": "code",
   "execution_count": 3,
   "metadata": {
    "execution": {
     "iopub.execute_input": "2020-08-24T18:05:19.820383Z",
     "iopub.status.busy": "2020-08-24T18:05:19.819452Z",
     "iopub.status.idle": "2020-08-24T18:05:19.822569Z",
     "shell.execute_reply": "2020-08-24T18:05:19.821968Z"
    },
    "id": "xnVmKqUku2sV",
    "papermill": {
     "duration": 0.027824,
     "end_time": "2020-08-24T18:05:19.822665",
     "exception": false,
     "start_time": "2020-08-24T18:05:19.794841",
     "status": "completed"
    },
    "scrolled": true,
    "tags": []
   },
   "outputs": [],
   "source": [
    "# make a copy of data\n",
    "df=insurance_df.copy()"
   ]
  },
  {
   "cell_type": "code",
   "execution_count": 4,
   "metadata": {
    "colab": {
     "base_uri": "https://localhost:8080/",
     "height": 206
    },
    "execution": {
     "iopub.execute_input": "2020-08-24T18:05:19.880299Z",
     "iopub.status.busy": "2020-08-24T18:05:19.879446Z",
     "iopub.status.idle": "2020-08-24T18:05:19.889482Z",
     "shell.execute_reply": "2020-08-24T18:05:19.890046Z"
    },
    "id": "5opsMyOKu2sW",
    "outputId": "1ffc504c-12b2-48ad-a34d-1882be834f39",
    "papermill": {
     "duration": 0.046381,
     "end_time": "2020-08-24T18:05:19.890158",
     "exception": false,
     "start_time": "2020-08-24T18:05:19.843777",
     "status": "completed"
    },
    "tags": []
   },
   "outputs": [
    {
     "data": {
      "text/html": [
       "<div>\n",
       "<style scoped>\n",
       "    .dataframe tbody tr th:only-of-type {\n",
       "        vertical-align: middle;\n",
       "    }\n",
       "\n",
       "    .dataframe tbody tr th {\n",
       "        vertical-align: top;\n",
       "    }\n",
       "\n",
       "    .dataframe thead th {\n",
       "        text-align: right;\n",
       "    }\n",
       "</style>\n",
       "<table border=\"1\" class=\"dataframe\">\n",
       "  <thead>\n",
       "    <tr style=\"text-align: right;\">\n",
       "      <th></th>\n",
       "      <th>age</th>\n",
       "      <th>sex</th>\n",
       "      <th>bmi</th>\n",
       "      <th>children</th>\n",
       "      <th>smoker</th>\n",
       "      <th>region</th>\n",
       "      <th>charges</th>\n",
       "    </tr>\n",
       "  </thead>\n",
       "  <tbody>\n",
       "    <tr>\n",
       "      <th>0</th>\n",
       "      <td>19</td>\n",
       "      <td>female</td>\n",
       "      <td>27.900</td>\n",
       "      <td>0</td>\n",
       "      <td>yes</td>\n",
       "      <td>southwest</td>\n",
       "      <td>16884.92400</td>\n",
       "    </tr>\n",
       "    <tr>\n",
       "      <th>1</th>\n",
       "      <td>18</td>\n",
       "      <td>male</td>\n",
       "      <td>33.770</td>\n",
       "      <td>1</td>\n",
       "      <td>no</td>\n",
       "      <td>southeast</td>\n",
       "      <td>1725.55230</td>\n",
       "    </tr>\n",
       "    <tr>\n",
       "      <th>2</th>\n",
       "      <td>28</td>\n",
       "      <td>male</td>\n",
       "      <td>33.000</td>\n",
       "      <td>3</td>\n",
       "      <td>no</td>\n",
       "      <td>southeast</td>\n",
       "      <td>4449.46200</td>\n",
       "    </tr>\n",
       "    <tr>\n",
       "      <th>3</th>\n",
       "      <td>33</td>\n",
       "      <td>male</td>\n",
       "      <td>22.705</td>\n",
       "      <td>0</td>\n",
       "      <td>no</td>\n",
       "      <td>northwest</td>\n",
       "      <td>21984.47061</td>\n",
       "    </tr>\n",
       "    <tr>\n",
       "      <th>4</th>\n",
       "      <td>32</td>\n",
       "      <td>male</td>\n",
       "      <td>28.880</td>\n",
       "      <td>0</td>\n",
       "      <td>no</td>\n",
       "      <td>northwest</td>\n",
       "      <td>3866.85520</td>\n",
       "    </tr>\n",
       "  </tbody>\n",
       "</table>\n",
       "</div>"
      ],
      "text/plain": [
       "   age     sex     bmi  children smoker     region      charges\n",
       "0   19  female  27.900         0    yes  southwest  16884.92400\n",
       "1   18    male  33.770         1     no  southeast   1725.55230\n",
       "2   28    male  33.000         3     no  southeast   4449.46200\n",
       "3   33    male  22.705         0     no  northwest  21984.47061\n",
       "4   32    male  28.880         0     no  northwest   3866.85520"
      ]
     },
     "execution_count": 4,
     "metadata": {},
     "output_type": "execute_result"
    }
   ],
   "source": [
    "# run the first 5 rows\n",
    "df.head()"
   ]
  },
  {
   "cell_type": "code",
   "execution_count": 5,
   "metadata": {
    "colab": {
     "base_uri": "https://localhost:8080/"
    },
    "execution": {
     "iopub.execute_input": "2020-08-24T18:05:19.940290Z",
     "iopub.status.busy": "2020-08-24T18:05:19.939489Z",
     "iopub.status.idle": "2020-08-24T18:05:19.942796Z",
     "shell.execute_reply": "2020-08-24T18:05:19.943265Z"
    },
    "id": "LftIoTOCu2sZ",
    "outputId": "d6daacef-acd7-4031-bcbf-93d14142dd43",
    "papermill": {
     "duration": 0.030292,
     "end_time": "2020-08-24T18:05:19.943394",
     "exception": false,
     "start_time": "2020-08-24T18:05:19.913102",
     "status": "completed"
    },
    "tags": []
   },
   "outputs": [
    {
     "data": {
      "text/plain": [
       "(1338, 7)"
      ]
     },
     "execution_count": 5,
     "metadata": {},
     "output_type": "execute_result"
    }
   ],
   "source": [
    "# get number of rows and columns\n",
    "df.shape\n",
    "\n"
   ]
  },
  {
   "cell_type": "code",
   "execution_count": 6,
   "metadata": {
    "colab": {
     "base_uri": "https://localhost:8080/",
     "height": 423
    },
    "id": "7k8QSRd54JhU",
    "outputId": "68408a23-0514-4b16-8a35-d34ae68df5f2"
   },
   "outputs": [
    {
     "data": {
      "text/html": [
       "<div>\n",
       "<style scoped>\n",
       "    .dataframe tbody tr th:only-of-type {\n",
       "        vertical-align: middle;\n",
       "    }\n",
       "\n",
       "    .dataframe tbody tr th {\n",
       "        vertical-align: top;\n",
       "    }\n",
       "\n",
       "    .dataframe thead th {\n",
       "        text-align: right;\n",
       "    }\n",
       "</style>\n",
       "<table border=\"1\" class=\"dataframe\">\n",
       "  <thead>\n",
       "    <tr style=\"text-align: right;\">\n",
       "      <th></th>\n",
       "      <th>age</th>\n",
       "      <th>sex</th>\n",
       "      <th>bmi</th>\n",
       "      <th>children</th>\n",
       "      <th>smoker</th>\n",
       "      <th>region</th>\n",
       "      <th>charges</th>\n",
       "    </tr>\n",
       "  </thead>\n",
       "  <tbody>\n",
       "    <tr>\n",
       "      <th>0</th>\n",
       "      <td>19</td>\n",
       "      <td>female</td>\n",
       "      <td>27.900</td>\n",
       "      <td>0</td>\n",
       "      <td>yes</td>\n",
       "      <td>southwest</td>\n",
       "      <td>16884.92400</td>\n",
       "    </tr>\n",
       "    <tr>\n",
       "      <th>1</th>\n",
       "      <td>18</td>\n",
       "      <td>male</td>\n",
       "      <td>33.770</td>\n",
       "      <td>1</td>\n",
       "      <td>no</td>\n",
       "      <td>southeast</td>\n",
       "      <td>1725.55230</td>\n",
       "    </tr>\n",
       "    <tr>\n",
       "      <th>2</th>\n",
       "      <td>28</td>\n",
       "      <td>male</td>\n",
       "      <td>33.000</td>\n",
       "      <td>3</td>\n",
       "      <td>no</td>\n",
       "      <td>southeast</td>\n",
       "      <td>4449.46200</td>\n",
       "    </tr>\n",
       "    <tr>\n",
       "      <th>3</th>\n",
       "      <td>33</td>\n",
       "      <td>male</td>\n",
       "      <td>22.705</td>\n",
       "      <td>0</td>\n",
       "      <td>no</td>\n",
       "      <td>northwest</td>\n",
       "      <td>21984.47061</td>\n",
       "    </tr>\n",
       "    <tr>\n",
       "      <th>4</th>\n",
       "      <td>32</td>\n",
       "      <td>male</td>\n",
       "      <td>28.880</td>\n",
       "      <td>0</td>\n",
       "      <td>no</td>\n",
       "      <td>northwest</td>\n",
       "      <td>3866.85520</td>\n",
       "    </tr>\n",
       "    <tr>\n",
       "      <th>...</th>\n",
       "      <td>...</td>\n",
       "      <td>...</td>\n",
       "      <td>...</td>\n",
       "      <td>...</td>\n",
       "      <td>...</td>\n",
       "      <td>...</td>\n",
       "      <td>...</td>\n",
       "    </tr>\n",
       "    <tr>\n",
       "      <th>1333</th>\n",
       "      <td>50</td>\n",
       "      <td>male</td>\n",
       "      <td>30.970</td>\n",
       "      <td>3</td>\n",
       "      <td>no</td>\n",
       "      <td>northwest</td>\n",
       "      <td>10600.54830</td>\n",
       "    </tr>\n",
       "    <tr>\n",
       "      <th>1334</th>\n",
       "      <td>18</td>\n",
       "      <td>female</td>\n",
       "      <td>31.920</td>\n",
       "      <td>0</td>\n",
       "      <td>no</td>\n",
       "      <td>northeast</td>\n",
       "      <td>2205.98080</td>\n",
       "    </tr>\n",
       "    <tr>\n",
       "      <th>1335</th>\n",
       "      <td>18</td>\n",
       "      <td>female</td>\n",
       "      <td>36.850</td>\n",
       "      <td>0</td>\n",
       "      <td>no</td>\n",
       "      <td>southeast</td>\n",
       "      <td>1629.83350</td>\n",
       "    </tr>\n",
       "    <tr>\n",
       "      <th>1336</th>\n",
       "      <td>21</td>\n",
       "      <td>female</td>\n",
       "      <td>25.800</td>\n",
       "      <td>0</td>\n",
       "      <td>no</td>\n",
       "      <td>southwest</td>\n",
       "      <td>2007.94500</td>\n",
       "    </tr>\n",
       "    <tr>\n",
       "      <th>1337</th>\n",
       "      <td>61</td>\n",
       "      <td>female</td>\n",
       "      <td>29.070</td>\n",
       "      <td>0</td>\n",
       "      <td>yes</td>\n",
       "      <td>northwest</td>\n",
       "      <td>29141.36030</td>\n",
       "    </tr>\n",
       "  </tbody>\n",
       "</table>\n",
       "<p>1337 rows × 7 columns</p>\n",
       "</div>"
      ],
      "text/plain": [
       "      age     sex     bmi  children smoker     region      charges\n",
       "0      19  female  27.900         0    yes  southwest  16884.92400\n",
       "1      18    male  33.770         1     no  southeast   1725.55230\n",
       "2      28    male  33.000         3     no  southeast   4449.46200\n",
       "3      33    male  22.705         0     no  northwest  21984.47061\n",
       "4      32    male  28.880         0     no  northwest   3866.85520\n",
       "...   ...     ...     ...       ...    ...        ...          ...\n",
       "1333   50    male  30.970         3     no  northwest  10600.54830\n",
       "1334   18  female  31.920         0     no  northeast   2205.98080\n",
       "1335   18  female  36.850         0     no  southeast   1629.83350\n",
       "1336   21  female  25.800         0     no  southwest   2007.94500\n",
       "1337   61  female  29.070         0    yes  northwest  29141.36030\n",
       "\n",
       "[1337 rows x 7 columns]"
      ]
     },
     "execution_count": 6,
     "metadata": {},
     "output_type": "execute_result"
    }
   ],
   "source": [
    "df.drop_duplicates()"
   ]
  },
  {
   "cell_type": "code",
   "execution_count": 7,
   "metadata": {
    "colab": {
     "base_uri": "https://localhost:8080/"
    },
    "execution": {
     "iopub.execute_input": "2020-08-24T18:05:19.991576Z",
     "iopub.status.busy": "2020-08-24T18:05:19.990747Z",
     "iopub.status.idle": "2020-08-24T18:05:19.993877Z",
     "shell.execute_reply": "2020-08-24T18:05:19.994415Z"
    },
    "id": "IYIlTuOtu2sa",
    "outputId": "9928aaaa-a6d3-48e3-8c26-63ed4a1ac9f2",
    "papermill": {
     "duration": 0.029686,
     "end_time": "2020-08-24T18:05:19.994530",
     "exception": false,
     "start_time": "2020-08-24T18:05:19.964844",
     "status": "completed"
    },
    "tags": []
   },
   "outputs": [
    {
     "data": {
      "text/plain": [
       "Index(['age', 'sex', 'bmi', 'children', 'smoker', 'region', 'charges'], dtype='object')"
      ]
     },
     "execution_count": 7,
     "metadata": {},
     "output_type": "execute_result"
    }
   ],
   "source": [
    "# get attribute names\n",
    "df.columns"
   ]
  },
  {
   "cell_type": "code",
   "execution_count": 8,
   "metadata": {
    "colab": {
     "base_uri": "https://localhost:8080/"
    },
    "execution": {
     "iopub.execute_input": "2020-08-24T18:05:20.044095Z",
     "iopub.status.busy": "2020-08-24T18:05:20.043188Z",
     "iopub.status.idle": "2020-08-24T18:05:20.059409Z",
     "shell.execute_reply": "2020-08-24T18:05:20.058647Z"
    },
    "id": "f8pLdtTDu2sb",
    "outputId": "e6841e1c-56bf-4fa3-8341-e5c571188c62",
    "papermill": {
     "duration": 0.042858,
     "end_time": "2020-08-24T18:05:20.059564",
     "exception": false,
     "start_time": "2020-08-24T18:05:20.016706",
     "status": "completed"
    },
    "tags": []
   },
   "outputs": [
    {
     "name": "stdout",
     "output_type": "stream",
     "text": [
      "<class 'pandas.core.frame.DataFrame'>\n",
      "RangeIndex: 1338 entries, 0 to 1337\n",
      "Data columns (total 7 columns):\n",
      " #   Column    Non-Null Count  Dtype  \n",
      "---  ------    --------------  -----  \n",
      " 0   age       1338 non-null   int64  \n",
      " 1   sex       1338 non-null   object \n",
      " 2   bmi       1338 non-null   float64\n",
      " 3   children  1338 non-null   int64  \n",
      " 4   smoker    1338 non-null   object \n",
      " 5   region    1338 non-null   object \n",
      " 6   charges   1338 non-null   float64\n",
      "dtypes: float64(2), int64(2), object(3)\n",
      "memory usage: 73.3+ KB\n"
     ]
    }
   ],
   "source": [
    "# get information about a dataset (dtype, non-null values, memory usage)\n",
    "df.info()"
   ]
  },
  {
   "cell_type": "code",
   "execution_count": 66,
   "metadata": {
    "colab": {
     "base_uri": "https://localhost:8080/"
    },
    "execution": {
     "iopub.execute_input": "2020-08-24T18:05:20.113006Z",
     "iopub.status.busy": "2020-08-24T18:05:20.111532Z",
     "iopub.status.idle": "2020-08-24T18:05:20.116858Z",
     "shell.execute_reply": "2020-08-24T18:05:20.116081Z"
    },
    "id": "9y2s7eO7u2sc",
    "outputId": "c36225e0-e146-4074-94ae-3ab0be361ca7",
    "papermill": {
     "duration": 0.032958,
     "end_time": "2020-08-24T18:05:20.117021",
     "exception": false,
     "start_time": "2020-08-24T18:05:20.084063",
     "status": "completed"
    },
    "tags": []
   },
   "outputs": [
    {
     "name": "stdout",
     "output_type": "stream",
     "text": [
      "sex ['female' 'male']\n",
      "sex \n",
      " male      676\n",
      "female    662\n",
      "Name: sex, dtype: int64\n",
      "children [0 1 2 3 4 5]\n",
      "children \n",
      " 0    574\n",
      "1    324\n",
      "2    240\n",
      "3    157\n",
      "4     25\n",
      "5     18\n",
      "Name: children, dtype: int64\n",
      "smoker ['no' 'yes']\n",
      "smoker \n",
      " no     1064\n",
      "yes     274\n",
      "Name: smoker, dtype: int64\n",
      "region ['northeast' 'northwest' 'southeast' 'southwest']\n",
      "region \n",
      " southeast    364\n",
      "southwest    325\n",
      "northwest    325\n",
      "northeast    324\n",
      "Name: region, dtype: int64\n"
     ]
    }
   ],
   "source": [
    "# detect labels in categorical variables\n",
    "for col in df.columns.delete([0,2,6]):\n",
    "    print(col, np.unique(df[col]))\n",
    "    print(col,'\\n', df[col].value_counts())\n"
   ]
  },
  {
   "cell_type": "code",
   "execution_count": 12,
   "metadata": {
    "colab": {
     "base_uri": "https://localhost:8080/"
    },
    "execution": {
     "iopub.execute_input": "2020-08-24T18:05:20.170866Z",
     "iopub.status.busy": "2020-08-24T18:05:20.169973Z",
     "iopub.status.idle": "2020-08-24T18:05:20.173946Z",
     "shell.execute_reply": "2020-08-24T18:05:20.173446Z"
    },
    "id": "2mxNhQSQu2sd",
    "outputId": "a3688d6a-f605-4972-d9ee-35b43f1fae21",
    "papermill": {
     "duration": 0.031986,
     "end_time": "2020-08-24T18:05:20.174034",
     "exception": false,
     "start_time": "2020-08-24T18:05:20.142048",
     "status": "completed"
    },
    "tags": []
   },
   "outputs": [
    {
     "data": {
      "text/plain": [
       "age         0\n",
       "sex         0\n",
       "bmi         0\n",
       "children    0\n",
       "smoker      0\n",
       "region      0\n",
       "charges     0\n",
       "dtype: int64"
      ]
     },
     "execution_count": 12,
     "metadata": {},
     "output_type": "execute_result"
    }
   ],
   "source": [
    "# detect missing values\n",
    "df.isna().sum()#.sum()"
   ]
  },
  {
   "cell_type": "code",
   "execution_count": 14,
   "metadata": {
    "colab": {
     "base_uri": "https://localhost:8080/",
     "height": 394
    },
    "execution": {
     "iopub.execute_input": "2020-08-24T18:05:20.227677Z",
     "iopub.status.busy": "2020-08-24T18:05:20.226938Z",
     "iopub.status.idle": "2020-08-24T18:05:20.257815Z",
     "shell.execute_reply": "2020-08-24T18:05:20.257232Z"
    },
    "id": "cKK7Dwcnu2se",
    "outputId": "aaafc941-63a2-490b-f6fd-9d81c1140318",
    "papermill": {
     "duration": 0.061808,
     "end_time": "2020-08-24T18:05:20.257923",
     "exception": false,
     "start_time": "2020-08-24T18:05:20.196115",
     "status": "completed"
    },
    "tags": []
   },
   "outputs": [
    {
     "data": {
      "text/html": [
       "<div>\n",
       "<style scoped>\n",
       "    .dataframe tbody tr th:only-of-type {\n",
       "        vertical-align: middle;\n",
       "    }\n",
       "\n",
       "    .dataframe tbody tr th {\n",
       "        vertical-align: top;\n",
       "    }\n",
       "\n",
       "    .dataframe thead th {\n",
       "        text-align: right;\n",
       "    }\n",
       "</style>\n",
       "<table border=\"1\" class=\"dataframe\">\n",
       "  <thead>\n",
       "    <tr style=\"text-align: right;\">\n",
       "      <th></th>\n",
       "      <th>age</th>\n",
       "      <th>bmi</th>\n",
       "      <th>children</th>\n",
       "      <th>charges</th>\n",
       "    </tr>\n",
       "  </thead>\n",
       "  <tbody>\n",
       "    <tr>\n",
       "      <th>count</th>\n",
       "      <td>1338.000000</td>\n",
       "      <td>1338.000000</td>\n",
       "      <td>1338.000000</td>\n",
       "      <td>1338.000000</td>\n",
       "    </tr>\n",
       "    <tr>\n",
       "      <th>mean</th>\n",
       "      <td>39.207025</td>\n",
       "      <td>30.663397</td>\n",
       "      <td>1.094918</td>\n",
       "      <td>13270.422265</td>\n",
       "    </tr>\n",
       "    <tr>\n",
       "      <th>std</th>\n",
       "      <td>14.049960</td>\n",
       "      <td>6.098187</td>\n",
       "      <td>1.205493</td>\n",
       "      <td>12110.011237</td>\n",
       "    </tr>\n",
       "    <tr>\n",
       "      <th>min</th>\n",
       "      <td>18.000000</td>\n",
       "      <td>15.960000</td>\n",
       "      <td>0.000000</td>\n",
       "      <td>1121.873900</td>\n",
       "    </tr>\n",
       "    <tr>\n",
       "      <th>25%</th>\n",
       "      <td>27.000000</td>\n",
       "      <td>26.296250</td>\n",
       "      <td>0.000000</td>\n",
       "      <td>4740.287150</td>\n",
       "    </tr>\n",
       "    <tr>\n",
       "      <th>50%</th>\n",
       "      <td>39.000000</td>\n",
       "      <td>30.400000</td>\n",
       "      <td>1.000000</td>\n",
       "      <td>9382.033000</td>\n",
       "    </tr>\n",
       "    <tr>\n",
       "      <th>75%</th>\n",
       "      <td>51.000000</td>\n",
       "      <td>34.693750</td>\n",
       "      <td>2.000000</td>\n",
       "      <td>16639.912515</td>\n",
       "    </tr>\n",
       "    <tr>\n",
       "      <th>max</th>\n",
       "      <td>64.000000</td>\n",
       "      <td>53.130000</td>\n",
       "      <td>5.000000</td>\n",
       "      <td>63770.428010</td>\n",
       "    </tr>\n",
       "  </tbody>\n",
       "</table>\n",
       "</div>"
      ],
      "text/plain": [
       "               age          bmi     children       charges\n",
       "count  1338.000000  1338.000000  1338.000000   1338.000000\n",
       "mean     39.207025    30.663397     1.094918  13270.422265\n",
       "std      14.049960     6.098187     1.205493  12110.011237\n",
       "min      18.000000    15.960000     0.000000   1121.873900\n",
       "25%      27.000000    26.296250     0.000000   4740.287150\n",
       "50%      39.000000    30.400000     1.000000   9382.033000\n",
       "75%      51.000000    34.693750     2.000000  16639.912515\n",
       "max      64.000000    53.130000     5.000000  63770.428010"
      ]
     },
     "execution_count": 14,
     "metadata": {},
     "output_type": "execute_result"
    }
   ],
   "source": [
    "# Summary statistics\n",
    "df.describe() # only for numerical variables\n",
    "df.describe().T # transpose\n",
    "df.describe() # for all variables"
   ]
  },
  {
   "cell_type": "code",
   "execution_count": 15,
   "metadata": {
    "colab": {
     "base_uri": "https://localhost:8080/",
     "height": 198
    },
    "execution": {
     "iopub.execute_input": "2020-08-24T18:05:20.313058Z",
     "iopub.status.busy": "2020-08-24T18:05:20.311881Z",
     "iopub.status.idle": "2020-08-24T18:05:20.322275Z",
     "shell.execute_reply": "2020-08-24T18:05:20.321731Z"
    },
    "id": "EYYI0pmnu2sf",
    "outputId": "8adf8926-475f-4b10-8148-a94dc5b06cc7",
    "papermill": {
     "duration": 0.039712,
     "end_time": "2020-08-24T18:05:20.322403",
     "exception": false,
     "start_time": "2020-08-24T18:05:20.282691",
     "status": "completed"
    },
    "tags": []
   },
   "outputs": [
    {
     "data": {
      "text/html": [
       "<div>\n",
       "<style scoped>\n",
       "    .dataframe tbody tr th:only-of-type {\n",
       "        vertical-align: middle;\n",
       "    }\n",
       "\n",
       "    .dataframe tbody tr th {\n",
       "        vertical-align: top;\n",
       "    }\n",
       "\n",
       "    .dataframe thead th {\n",
       "        text-align: right;\n",
       "    }\n",
       "</style>\n",
       "<table border=\"1\" class=\"dataframe\">\n",
       "  <thead>\n",
       "    <tr style=\"text-align: right;\">\n",
       "      <th></th>\n",
       "      <th>age</th>\n",
       "      <th>bmi</th>\n",
       "      <th>children</th>\n",
       "      <th>charges</th>\n",
       "    </tr>\n",
       "  </thead>\n",
       "  <tbody>\n",
       "    <tr>\n",
       "      <th>age</th>\n",
       "      <td>1.000000</td>\n",
       "      <td>0.109272</td>\n",
       "      <td>0.042469</td>\n",
       "      <td>0.299008</td>\n",
       "    </tr>\n",
       "    <tr>\n",
       "      <th>bmi</th>\n",
       "      <td>0.109272</td>\n",
       "      <td>1.000000</td>\n",
       "      <td>0.012759</td>\n",
       "      <td>0.198341</td>\n",
       "    </tr>\n",
       "    <tr>\n",
       "      <th>children</th>\n",
       "      <td>0.042469</td>\n",
       "      <td>0.012759</td>\n",
       "      <td>1.000000</td>\n",
       "      <td>0.067998</td>\n",
       "    </tr>\n",
       "    <tr>\n",
       "      <th>charges</th>\n",
       "      <td>0.299008</td>\n",
       "      <td>0.198341</td>\n",
       "      <td>0.067998</td>\n",
       "      <td>1.000000</td>\n",
       "    </tr>\n",
       "  </tbody>\n",
       "</table>\n",
       "</div>"
      ],
      "text/plain": [
       "               age       bmi  children   charges\n",
       "age       1.000000  0.109272  0.042469  0.299008\n",
       "bmi       0.109272  1.000000  0.012759  0.198341\n",
       "children  0.042469  0.012759  1.000000  0.067998\n",
       "charges   0.299008  0.198341  0.067998  1.000000"
      ]
     },
     "execution_count": 15,
     "metadata": {},
     "output_type": "execute_result"
    }
   ],
   "source": [
    "# correlation matrix\n",
    "df.corr()"
   ]
  },
  {
   "cell_type": "code",
   "execution_count": 16,
   "metadata": {},
   "outputs": [
    {
     "name": "stdout",
     "output_type": "stream",
     "text": [
      "no. of people who have at least 1 child are  764\n",
      "male      391\n",
      "female    373\n",
      "Name: sex, dtype: int64\n",
      "1    324\n",
      "2    240\n",
      "3    157\n",
      "4     25\n",
      "5     18\n",
      "Name: children, dtype: int64\n"
     ]
    }
   ],
   "source": [
    "print('no. of people who have at least 1 child are ',df[df['children']>0].value_counts().sum())\n",
    "print(df['sex'][df['children']>0].value_counts())\n",
    "print(df['children'][df['children']>0].value_counts())"
   ]
  },
  {
   "cell_type": "markdown",
   "metadata": {
    "id": "HXXbIC6vu2sg",
    "papermill": {
     "duration": 0.022639,
     "end_time": "2020-08-24T18:05:20.370063",
     "exception": false,
     "start_time": "2020-08-24T18:05:20.347424",
     "status": "completed"
    },
    "tags": []
   },
   "source": [
    "####  So, what do I know about dataset?\n",
    "\n",
    "- The *insurance* dataset has 7 columns (features) and 1338 rows (observations,samples).\\\n",
    "  *Numerical* columns are:\n",
    "    - *age* (discrete)      - applicant age\n",
    "    - *bmi* (continuous) - body measure indicator   \n",
    "    - *children* (discrete) - the number of children per insurance applicant\n",
    "    - *charges* (continuous) - the mount of applicant charges\n",
    "\n",
    "  *Categorical* columns are:\n",
    "    - *sex* (Male/Female) - the gender of the applicant\n",
    "    - *smoker* (Yes/No) - whether or not the   is a smoker\n",
    "    - *region* (southeast/southwest/northeast/northwest) - the day when the person paid the bill\n",
    "    \n",
    "- There is no missing values.\n",
    "- tip is in interval [1,10] with overall average tip approx.3 (with standard deviation 1.4) and median 3.6  \n",
    "- total_bill is approx. between 3 and 51 with overall average 20 (with standard deviation 9) and median 24\n",
    "- positive correlation (>1) among numerical variables\n",
    "- the strongest relationship is between total_bill and tip (0.7)"
   ]
  },
  {
   "cell_type": "code",
   "execution_count": 17,
   "metadata": {},
   "outputs": [
    {
     "name": "stdout",
     "output_type": "stream",
     "text": [
      "sex     children\n",
      "female  0           289\n",
      "        1           158\n",
      "        2           119\n",
      "        3            77\n",
      "        4            11\n",
      "        5             8\n",
      "male    0           285\n",
      "        1           166\n",
      "        2           121\n",
      "        3            80\n",
      "        4            14\n",
      "        5            10\n",
      "dtype: int64\n"
     ]
    }
   ],
   "source": [
    "print(df.groupby(['sex','children']).size())"
   ]
  },
  {
   "cell_type": "code",
   "execution_count": 18,
   "metadata": {},
   "outputs": [
    {
     "data": {
      "text/plain": [
       "sex     region   \n",
       "female  northeast    161\n",
       "        northwest    164\n",
       "        southeast    175\n",
       "        southwest    162\n",
       "male    northeast    163\n",
       "        northwest    161\n",
       "        southeast    189\n",
       "        southwest    163\n",
       "dtype: int64"
      ]
     },
     "execution_count": 18,
     "metadata": {},
     "output_type": "execute_result"
    }
   ],
   "source": [
    "df.groupby(['sex','region']).size()"
   ]
  },
  {
   "cell_type": "code",
   "execution_count": 34,
   "metadata": {},
   "outputs": [
    {
     "data": {
      "text/plain": [
       "20142.626070590406"
      ]
     },
     "execution_count": 34,
     "metadata": {},
     "output_type": "execute_result"
    }
   ],
   "source": [
    "df.groupby(['sex','smoker'])['charges'].mean().mean()"
   ]
  },
  {
   "cell_type": "markdown",
   "metadata": {
    "id": "UkIxJnJuu2sh",
    "papermill": {
     "duration": 0.027267,
     "end_time": "2020-08-24T18:05:20.428200",
     "exception": false,
     "start_time": "2020-08-24T18:05:20.400933",
     "status": "completed"
    },
    "tags": []
   },
   "source": [
    "## 2. Visualization"
   ]
  },
  {
   "cell_type": "markdown",
   "metadata": {
    "id": "-IGOMYPcu2si",
    "papermill": {
     "duration": 0.024611,
     "end_time": "2020-08-24T18:05:20.475630",
     "exception": false,
     "start_time": "2020-08-24T18:05:20.451019",
     "status": "completed"
    },
    "tags": []
   },
   "source": [
    "### **a. Frequency Distribution - Categorical Variables**"
   ]
  },
  {
   "cell_type": "markdown",
   "metadata": {
    "id": "OKJ94eIpu2si",
    "papermill": {
     "duration": 0.022743,
     "end_time": "2020-08-24T18:05:20.522153",
     "exception": false,
     "start_time": "2020-08-24T18:05:20.499410",
     "status": "completed"
    },
    "tags": []
   },
   "source": [
    "###  * COUNT PLOT"
   ]
  },
  {
   "cell_type": "markdown",
   "metadata": {
    "id": "Un4OauYmu2sj",
    "papermill": {
     "duration": 0.023127,
     "end_time": "2020-08-24T18:05:20.567989",
     "exception": false,
     "start_time": "2020-08-24T18:05:20.544862",
     "status": "completed"
    },
    "tags": []
   },
   "source": [
    "- show value counts for a single categorical variable\n",
    "- can be thought of as a histogram across a categorical, instead of quantitative, variable."
   ]
  },
  {
   "cell_type": "code",
   "execution_count": 20,
   "metadata": {
    "colab": {
     "base_uri": "https://localhost:8080/",
     "height": 501
    },
    "id": "GJ3Gpsmq0Ayp",
    "outputId": "82fd68b5-695d-45ef-ef09-1f264417d488"
   },
   "outputs": [
    {
     "name": "stdout",
     "output_type": "stream",
     "text": [
      "male      676\n",
      "female    662\n",
      "Name: sex, dtype: int64\n"
     ]
    },
    {
     "data": {
      "image/png": "[encoded data removed]",
      "text/plain": [
       "<Figure size 432x288 with 1 Axes>"
      ]
     },
     "metadata": {
      "needs_background": "light"
     },
     "output_type": "display_data"
    }
   ],
   "source": [
    "# Apsolute values - the number of records\n",
    "\n",
    "ax=sns.countplot(x='sex', data=df)\n",
    "# sns.despine() # no top and right axes spine\n",
    "ax.bar_label(ax.containers[0])\n",
    "print(df.sex.value_counts())"
   ]
  },
  {
   "cell_type": "code",
   "execution_count": 25,
   "metadata": {
    "colab": {
     "base_uri": "https://localhost:8080/",
     "height": 466
    },
    "execution": {
     "iopub.execute_input": "2020-08-24T18:05:20.858186Z",
     "iopub.status.busy": "2020-08-24T18:05:20.857247Z",
     "iopub.status.idle": "2020-08-24T18:05:20.972334Z",
     "shell.execute_reply": "2020-08-24T18:05:20.971624Z"
    },
    "id": "8_KHNJxFu2sl",
    "outputId": "ec392e1f-9d62-44d2-b154-58326653c3f7",
    "papermill": {
     "duration": 0.15462,
     "end_time": "2020-08-24T18:05:20.972496",
     "exception": false,
     "start_time": "2020-08-24T18:05:20.817876",
     "status": "completed"
    },
    "tags": []
   },
   "outputs": [
    {
     "name": "stdout",
     "output_type": "stream",
     "text": [
      "no     1064\n",
      "yes     274\n",
      "Name: smoker, dtype: int64\n"
     ]
    },
    {
     "data": {
      "image/png": "[encoded data removed]",
      "text/plain": [
       "<Figure size 432x288 with 1 Axes>"
      ]
     },
     "metadata": {
      "needs_background": "light"
     },
     "output_type": "display_data"
    }
   ],
   "source": [
    "# change orientation, use same color for both label\n",
    "ax1=sns.countplot(x='smoker', data=df)\n",
    "ax1.bar_label(ax1.containers[0])\n",
    "print(df.smoker.value_counts())"
   ]
  },
  {
   "cell_type": "code",
   "execution_count": 29,
   "metadata": {
    "colab": {
     "base_uri": "https://localhost:8080/",
     "height": 466
    },
    "execution": {
     "iopub.execute_input": "2020-08-24T18:05:21.034244Z",
     "iopub.status.busy": "2020-08-24T18:05:21.033339Z",
     "iopub.status.idle": "2020-08-24T18:05:21.172728Z",
     "shell.execute_reply": "2020-08-24T18:05:21.172127Z"
    },
    "id": "WEXs4Pmsu2sm",
    "outputId": "a032551c-4313-44d2-aad5-bdafbb9ee964",
    "papermill": {
     "duration": 0.174641,
     "end_time": "2020-08-24T18:05:21.172857",
     "exception": false,
     "start_time": "2020-08-24T18:05:20.998216",
     "status": "completed"
    },
    "tags": []
   },
   "outputs": [
    {
     "data": {
      "text/plain": [
       "<AxesSubplot:xlabel='sex', ylabel='count'>"
      ]
     },
     "execution_count": 29,
     "metadata": {},
     "output_type": "execute_result"
    },
    {
     "data": {
      "image/png": "[encoded data removed]",
      "text/plain": [
       "<Figure size 432x288 with 1 Axes>"
      ]
     },
     "metadata": {
      "needs_background": "light"
     },
     "output_type": "display_data"
    }
   ],
   "source": [
    "# show value counts for two categorical variables\n",
    "sns.countplot(x='sex', data=df, hue='smoker', palette='viridis')\n",
    "# male nonsmoker is larger size"
   ]
  },
  {
   "cell_type": "markdown",
   "metadata": {
    "id": "YDcFGmXCu2sn",
    "papermill": {
     "duration": 0.061024,
     "end_time": "2020-08-24T18:05:21.259419",
     "exception": false,
     "start_time": "2020-08-24T18:05:21.198395",
     "status": "completed"
    },
    "tags": []
   },
   "source": [
    "So, we see that:\n",
    "- Man paid mostly\n",
    "- non-smokers are the most applicants\n",
    "- Male and female smoker paid mostly( average=33042&30678)\n",
    "- Male and female non smoker paid more often less than Male-smoker ( average=8087&8762)\n",
    "- total mean charges is (20142)"
   ]
  },
  {
   "cell_type": "markdown",
   "metadata": {
    "id": "v17AGnSDu2sn",
    "papermill": {
     "duration": 0.023247,
     "end_time": "2020-08-24T18:05:21.306617",
     "exception": false,
     "start_time": "2020-08-24T18:05:21.283370",
     "status": "completed"
    },
    "tags": []
   },
   "source": [
    "### * CATPLOT"
   ]
  },
  {
   "cell_type": "code",
   "execution_count": 42,
   "metadata": {
    "colab": {
     "base_uri": "https://localhost:8080/",
     "height": 523
    },
    "execution": {
     "iopub.execute_input": "2020-08-24T18:05:21.410740Z",
     "iopub.status.busy": "2020-08-24T18:05:21.409762Z",
     "iopub.status.idle": "2020-08-24T18:05:21.693330Z",
     "shell.execute_reply": "2020-08-24T18:05:21.693951Z"
    },
    "id": "wWzoKja9u2so",
    "outputId": "939b3dc9-926b-460e-8e32-9f853b613f35",
    "papermill": {
     "duration": 0.314223,
     "end_time": "2020-08-24T18:05:21.694121",
     "exception": false,
     "start_time": "2020-08-24T18:05:21.379898",
     "status": "completed"
    },
    "tags": []
   },
   "outputs": [
    {
     "data": {
      "image/png": "[encoded data removed]",
      "text/plain": [
       "<Figure size 430.5x360 with 1 Axes>"
      ]
     },
     "metadata": {
      "needs_background": "light"
     },
     "output_type": "display_data"
    }
   ],
   "source": [
    "# show value counts for two categorical variables\n",
    "ax3=sns.catplot(x='children', data=df, hue='sex', palette='ch:.25', kind='count')\n"
   ]
  },
  {
   "cell_type": "code",
   "execution_count": 43,
   "metadata": {
    "colab": {
     "base_uri": "https://localhost:8080/",
     "height": 300
    },
    "execution": {
     "iopub.execute_input": "2020-08-24T18:05:21.763785Z",
     "iopub.status.busy": "2020-08-24T18:05:21.762802Z",
     "iopub.status.idle": "2020-08-24T18:05:22.503308Z",
     "shell.execute_reply": "2020-08-24T18:05:22.503894Z"
    },
    "id": "qRxAnP0xu2so",
    "outputId": "3c596858-415e-4201-a48f-89238c82e4ad",
    "papermill": {
     "duration": 0.77885,
     "end_time": "2020-08-24T18:05:22.504063",
     "exception": false,
     "start_time": "2020-08-24T18:05:21.725213",
     "status": "completed"
    },
    "tags": []
   },
   "outputs": [
    {
     "data": {
      "text/plain": [
       "<seaborn.axisgrid.FacetGrid at 0x26f81987820>"
      ]
     },
     "execution_count": 43,
     "metadata": {},
     "output_type": "execute_result"
    },
    {
     "data": {
      "image/png": "[encoded data removed]",
      "text/plain": [
       "<Figure size 1493.25x360 with 4 Axes>"
      ]
     },
     "metadata": {
      "needs_background": "light"
     },
     "output_type": "display_data"
    }
   ],
   "source": [
    "# facet along the columns to show a third categorical variable\n",
    "sns.catplot(x='sex', hue='smoker', col='region', data=df, kind='count')"
   ]
  },
  {
   "cell_type": "markdown",
   "metadata": {},
   "source": [
    "count of sex categories per region, they have near values"
   ]
  },
  {
   "cell_type": "markdown",
   "metadata": {
    "id": "v4P_3viou2so",
    "papermill": {
     "duration": 0.02475,
     "end_time": "2020-08-24T18:05:22.556926",
     "exception": false,
     "start_time": "2020-08-24T18:05:22.532176",
     "status": "completed"
    },
    "tags": []
   },
   "source": [
    "### * BAR PLOTS"
   ]
  },
  {
   "cell_type": "code",
   "execution_count": 47,
   "metadata": {
    "colab": {
     "base_uri": "https://localhost:8080/"
    },
    "execution": {
     "iopub.execute_input": "2020-08-24T18:05:22.614253Z",
     "iopub.status.busy": "2020-08-24T18:05:22.613421Z",
     "iopub.status.idle": "2020-08-24T18:05:22.741530Z",
     "shell.execute_reply": "2020-08-24T18:05:22.741971Z"
    },
    "id": "oyf5-bnqu2sp",
    "outputId": "7c22e732-2f8d-48bb-fe80-bd3735cd8985",
    "papermill": {
     "duration": 0.160443,
     "end_time": "2020-08-24T18:05:22.742137",
     "exception": false,
     "start_time": "2020-08-24T18:05:22.581694",
     "status": "completed"
    },
    "scrolled": true,
    "tags": []
   },
   "outputs": [
    {
     "name": "stdout",
     "output_type": "stream",
     "text": [
      "male      50.523169\n",
      "female    49.476831\n",
      "Name: sex, dtype: float64\n"
     ]
    },
    {
     "data": {
      "image/png": "[encoded data removed]",
      "text/plain": [
       "<Figure size 432x288 with 1 Axes>"
      ]
     },
     "metadata": {
      "needs_background": "light"
     },
     "output_type": "display_data"
    }
   ],
   "source": [
    "# Relative values - the percentage of records\n",
    "perc=df['sex'].value_counts(normalize=True)*100\n",
    "print(perc)\n",
    "sns.barplot(x=perc.index, y=perc, data=df)\n",
    "sns.despine(left='True') # no top, left and right axes spine"
   ]
  },
  {
   "cell_type": "markdown",
   "metadata": {
    "id": "cy8XsGAVu2sp",
    "papermill": {
     "duration": 0.026849,
     "end_time": "2020-08-24T18:05:22.794961",
     "exception": false,
     "start_time": "2020-08-24T18:05:22.768112",
     "status": "completed"
    },
    "tags": []
   },
   "source": [
    "50.5% of bills were paid by man comapared to 49.5% paid by woman.they are nearly the same"
   ]
  },
  {
   "cell_type": "markdown",
   "metadata": {
    "id": "lOA9KqHqu2sp",
    "papermill": {
     "duration": 0.024474,
     "end_time": "2020-08-24T18:05:22.844134",
     "exception": false,
     "start_time": "2020-08-24T18:05:22.819660",
     "status": "completed"
    },
    "tags": []
   },
   "source": [
    "## **b. Distribution of the Numerical Variable**"
   ]
  },
  {
   "cell_type": "markdown",
   "metadata": {
    "id": "oP6S7T8zu2sp",
    "papermill": {
     "duration": 0.024752,
     "end_time": "2020-08-24T18:05:22.893620",
     "exception": false,
     "start_time": "2020-08-24T18:05:22.868868",
     "status": "completed"
    },
    "tags": []
   },
   "source": [
    "### * DISTPLOT"
   ]
  },
  {
   "cell_type": "markdown",
   "metadata": {
    "id": "ksU5eZ51u2sq",
    "papermill": {
     "duration": 0.024767,
     "end_time": "2020-08-24T18:05:22.943777",
     "exception": false,
     "start_time": "2020-08-24T18:05:22.919010",
     "status": "completed"
    },
    "tags": []
   },
   "source": [
    "- plot a univariate distribution of observations\n",
    "- combines the histogram & plots the estimated probability density function over the data.\n",
    "- calculate bin size"
   ]
  },
  {
   "cell_type": "code",
   "execution_count": 52,
   "metadata": {
    "colab": {
     "base_uri": "https://localhost:8080/",
     "height": 897
    },
    "execution": {
     "iopub.execute_input": "2020-08-24T18:05:22.997884Z",
     "iopub.status.busy": "2020-08-24T18:05:22.996955Z",
     "iopub.status.idle": "2020-08-24T18:05:23.959047Z",
     "shell.execute_reply": "2020-08-24T18:05:23.960139Z"
    },
    "id": "BCYqswiku2sq",
    "outputId": "ecf9b0fa-dff8-4e4b-b87f-415d8697c029",
    "papermill": {
     "duration": 0.992192,
     "end_time": "2020-08-24T18:05:23.960362",
     "exception": false,
     "start_time": "2020-08-24T18:05:22.968170",
     "status": "completed"
    },
    "tags": []
   },
   "outputs": [
    {
     "name": "stderr",
     "output_type": "stream",
     "text": [
      "C:\\ProgramData\\Anaconda3\\lib\\site-packages\\seaborn\\distributions.py:2619: FutureWarning: `distplot` is a deprecated function and will be removed in a future version. Please adapt your code to use either `displot` (a figure-level function with similar flexibility) or `histplot` (an axes-level function for histograms).\n",
      "  warnings.warn(msg, FutureWarning)\n",
      "C:\\ProgramData\\Anaconda3\\lib\\site-packages\\seaborn\\distributions.py:2619: FutureWarning: `distplot` is a deprecated function and will be removed in a future version. Please adapt your code to use either `displot` (a figure-level function with similar flexibility) or `histplot` (an axes-level function for histograms).\n",
      "  warnings.warn(msg, FutureWarning)\n",
      "C:\\ProgramData\\Anaconda3\\lib\\site-packages\\seaborn\\distributions.py:2619: FutureWarning: `distplot` is a deprecated function and will be removed in a future version. Please adapt your code to use either `displot` (a figure-level function with similar flexibility) or `histplot` (an axes-level function for histograms).\n",
      "  warnings.warn(msg, FutureWarning)\n",
      "C:\\ProgramData\\Anaconda3\\lib\\site-packages\\seaborn\\distributions.py:2619: FutureWarning: `distplot` is a deprecated function and will be removed in a future version. Please adapt your code to use either `displot` (a figure-level function with similar flexibility) or `kdeplot` (an axes-level function for kernel density plots).\n",
      "  warnings.warn(msg, FutureWarning)\n"
     ]
    },
    {
     "data": {
      "image/png": "[encoded data removed]",
      "text/plain": [
       "<Figure size 1080x864 with 4 Axes>"
      ]
     },
     "metadata": {
      "needs_background": "light"
     },
     "output_type": "display_data"
    }
   ],
   "source": [
    "fig, axes = plt.subplots(2, 2, figsize=(15,12)) # plot 4 graphs\n",
    "\n",
    "# histogram and density function, set title\n",
    "sns.distplot(df.charges, ax=axes[0,0]).set_title('Tcharges distribution')\n",
    "\n",
    "#set number of bins and color, set title\n",
    "sns.distplot(df.charges, bins=80, color='r', ax=axes[0,1]).set_title('charges distribution')\n",
    "\n",
    "# only histogram, without density function, set title\n",
    "sns.distplot(df.charges, kde=False, ax=axes[1,0]).set_title('Histogram')\n",
    "\n",
    "# only density function, without histogram, set title\n",
    "sns.distplot(df.charges, hist=False, ax=axes[1,1]).set_title('PDF of charges')\n",
    "sns.despine() # no top and right axes spine"
   ]
  },
  {
   "cell_type": "markdown",
   "metadata": {
    "id": "0p2icbbyu2sq",
    "papermill": {
     "duration": 0.035796,
     "end_time": "2020-08-24T18:05:24.040651",
     "exception": false,
     "start_time": "2020-08-24T18:05:24.004855",
     "status": "completed"
    },
    "tags": []
   },
   "source": [
    "The most of the charge values are in the range of 5000 - 15000."
   ]
  },
  {
   "cell_type": "markdown",
   "metadata": {
    "id": "DT3Fx0M-u2sq",
    "papermill": {
     "duration": 0.036003,
     "end_time": "2020-08-24T18:05:24.111785",
     "exception": false,
     "start_time": "2020-08-24T18:05:24.075782",
     "status": "completed"
    },
    "tags": []
   },
   "source": [
    "### * KDE PLOT"
   ]
  },
  {
   "cell_type": "markdown",
   "metadata": {
    "id": "2jAi53-vu2sr",
    "papermill": {
     "duration": 0.038296,
     "end_time": "2020-08-24T18:05:24.185490",
     "exception": false,
     "start_time": "2020-08-24T18:05:24.147194",
     "status": "completed"
    },
    "tags": []
   },
   "source": [
    "- plot density"
   ]
  },
  {
   "cell_type": "code",
   "execution_count": 58,
   "metadata": {
    "colab": {
     "base_uri": "https://localhost:8080/"
    },
    "execution": {
     "iopub.execute_input": "2020-08-24T18:05:24.262109Z",
     "iopub.status.busy": "2020-08-24T18:05:24.261297Z",
     "iopub.status.idle": "2020-08-24T18:05:24.642797Z",
     "shell.execute_reply": "2020-08-24T18:05:24.643300Z"
    },
    "id": "vVsr4zs4u2sr",
    "outputId": "2726d887-654d-49f4-8fb6-9d590a7a98fb",
    "papermill": {
     "duration": 0.421585,
     "end_time": "2020-08-24T18:05:24.643483",
     "exception": false,
     "start_time": "2020-08-24T18:05:24.221898",
     "status": "completed"
    },
    "tags": []
   },
   "outputs": [
    {
     "data": {
      "text/plain": [
       "Text(0.5, 1.0, 'PDF of charges')"
      ]
     },
     "execution_count": 58,
     "metadata": {},
     "output_type": "execute_result"
    },
    {
     "data": {
      "image/png": "[encoded data removed]",
      "text/plain": [
       "<Figure size 1080x432 with 2 Axes>"
      ]
     },
     "metadata": {
      "needs_background": "light"
     },
     "output_type": "display_data"
    }
   ],
   "source": [
    "fig, axes = plt.subplots(1, 2, figsize=(15,6)) # plot 2 graphs\n",
    "\n",
    "# simple density function\n",
    "sns.kdeplot(df.charges, ax=axes[0])\n",
    "\n",
    "# filled area under the curve, set color, remove legend, set title\n",
    "sns.kdeplot(df.charges, shade=True, color='purple', legend=False, ax=axes[1]).set_title('PDF of charges')"
   ]
  },
  {
   "cell_type": "markdown",
   "metadata": {
    "id": "arRXfbcNu2sr",
    "papermill": {
     "duration": 0.025637,
     "end_time": "2020-08-24T18:05:24.696389",
     "exception": false,
     "start_time": "2020-08-24T18:05:24.670752",
     "status": "completed"
    },
    "tags": []
   },
   "source": [
    "### * BOX-PLOT"
   ]
  },
  {
   "cell_type": "markdown",
   "metadata": {
    "id": "NH1S31Fhu2sr",
    "papermill": {
     "duration": 0.02594,
     "end_time": "2020-08-24T18:05:24.748002",
     "exception": false,
     "start_time": "2020-08-24T18:05:24.722062",
     "status": "completed"
    },
    "tags": []
   },
   "source": [
    "- the box shows the quartiles of the dataset\n",
    "- the whiskers extend to show the rest of the distribution, except for points that are determined to be \"outliers\""
   ]
  },
  {
   "cell_type": "code",
   "execution_count": 62,
   "metadata": {
    "colab": {
     "base_uri": "https://localhost:8080/"
    },
    "execution": {
     "iopub.execute_input": "2020-08-24T18:05:24.821399Z",
     "iopub.status.busy": "2020-08-24T18:05:24.819625Z",
     "iopub.status.idle": "2020-08-24T18:05:25.030180Z",
     "shell.execute_reply": "2020-08-24T18:05:25.030711Z"
    },
    "id": "Bxa6EdfNu2ss",
    "outputId": "2d28a558-433b-4d8d-8952-6a9920b26ca7",
    "papermill": {
     "duration": 0.250808,
     "end_time": "2020-08-24T18:05:25.030853",
     "exception": false,
     "start_time": "2020-08-24T18:05:24.780045",
     "status": "completed"
    },
    "tags": []
   },
   "outputs": [
    {
     "name": "stderr",
     "output_type": "stream",
     "text": [
      "C:\\ProgramData\\Anaconda3\\lib\\site-packages\\seaborn\\_core.py:1326: UserWarning: Vertical orientation ignored with only `x` specified.\n",
      "  warnings.warn(single_var_warning.format(\"Vertical\", \"x\"))\n"
     ]
    },
    {
     "data": {
      "text/plain": [
       "Text(0.5, 1.0, 'bmi outliers')"
      ]
     },
     "execution_count": 62,
     "metadata": {},
     "output_type": "execute_result"
    },
    {
     "data": {
      "image/png": "[encoded data removed]",
      "text/plain": [
       "<Figure size 1080x432 with 2 Axes>"
      ]
     },
     "metadata": {
      "needs_background": "light"
     },
     "output_type": "display_data"
    }
   ],
   "source": [
    "# detect the outliers\n",
    "\n",
    "fig, axes = plt.subplots(1, 2,figsize=(15,6)) # plot 2 graphs\n",
    "\n",
    "# use red color, set title\n",
    "sns.boxplot(x='charges', data=df, color='red', ax=axes[0]).set(title='charges outliers')\n",
    "\n",
    "# change orientation, set title\n",
    "sns.boxplot(x='bmi', data=df, orient='v', ax=axes[1]).set_title('bmi outliers')"
   ]
  },
  {
   "cell_type": "markdown",
   "metadata": {
    "id": "LZPpSC33u2ss",
    "papermill": {
     "duration": 0.027921,
     "end_time": "2020-08-24T18:05:25.086944",
     "exception": false,
     "start_time": "2020-08-24T18:05:25.059023",
     "status": "completed"
    },
    "tags": []
   },
   "source": [
    "There are charges/bmi values that 'lie' outside from other charges/bmi values. <br>\n",
    "Both variables contain outlier candidates. <br>\n",
    "but we can consider it a normal values"
   ]
  },
  {
   "cell_type": "code",
   "execution_count": 92,
   "metadata": {},
   "outputs": [
    {
     "data": {
      "image/png": "[encoded data removed]",
      "text/plain": [
       "<Figure size 576x432 with 2 Axes>"
      ]
     },
     "metadata": {
      "needs_background": "light"
     },
     "output_type": "display_data"
    }
   ],
   "source": [
    "sex_per_region = df.groupby(['sex', 'region']).size().reset_index(name='count')\n",
    "\n",
    "# Creating a pivot table for the heatmap\n",
    "pivot_table = sex_per_region.pivot_table(index='sex', columns='region', values='count', fill_value=0)\n",
    "\n",
    "# Creating the heatmap\n",
    "plt.figure(figsize=(8, 6))\n",
    "sns.heatmap(pivot_table, annot=True,  fmt='d', cbar=True)\n",
    "plt.show()"
   ]
  },
  {
   "cell_type": "code",
   "execution_count": 85,
   "metadata": {},
   "outputs": [
    {
     "data": {
      "text/plain": [
       "<AxesSubplot:>"
      ]
     },
     "execution_count": 85,
     "metadata": {},
     "output_type": "execute_result"
    },
    {
     "data": {
      "image/png": "[encoded data removed]",
      "text/plain": [
       "<Figure size 432x288 with 2 Axes>"
      ]
     },
     "metadata": {
      "needs_background": "light"
     },
     "output_type": "display_data"
    }
   ],
   "source": [
    "# visualize the correlation matrix\n",
    "sns.heatmap(data=df.corr(),annot=True) # values of Pearson coefficient"
   ]
  }
 ],
 "metadata": {
  "colab": {
   "collapsed_sections": [
    "HXXbIC6vu2sg",
    "-IGOMYPcu2si",
    "OKJ94eIpu2si",
    "v17AGnSDu2sn",
    "v4P_3viou2so",
    "oP6S7T8zu2sp",
    "DT3Fx0M-u2sq",
    "arRXfbcNu2sr",
    "GjgV91sku2st",
    "1jFNrVTiu2su",
    "YdfSwVk8u2sv",
    "JcsOStPDu2sw",
    "fm0eFOBgu2sy",
    "p0Kn0Ksnu2s1",
    "mSXbi2Jeu2s3",
    "0fRnjRolu2s5",
    "uWQ5qveRu2s9",
    "pqBdX-kzu2s_",
    "f-tHf9mSu2tA",
    "X_d6aZRnu2tB",
    "eEwmu1Xeu2tC",
    "qV9iLB4bu2tD"
   ],
   "provenance": []
  },
  "kernelspec": {
   "display_name": "Python 3 (ipykernel)",
   "language": "python",
   "name": "python3"
  },
  "language_info": {
   "codemirror_mode": {
    "name": "ipython",
    "version": 3
   },
   "file_extension": ".py",
   "mimetype": "text/x-python",
   "name": "python",
   "nbconvert_exporter": "python",
   "pygments_lexer": "ipython3",
   "version": "3.9.7"
  },
  "papermill": {
   "duration": 64.657946,
   "end_time": "2020-08-24T18:06:18.767926",
   "environment_variables": {},
   "exception": null,
   "input_path": "__notebook__.ipynb",
   "output_path": "__notebook__.ipynb",
   "parameters": {},
   "start_time": "2020-08-24T18:05:14.109980",
   "version": "2.1.0"
  }
 },
 "nbformat": 4,
 "nbformat_minor": 1
}
